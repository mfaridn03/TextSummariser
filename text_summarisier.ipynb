{
  "nbformat": 4,
  "nbformat_minor": 0,
  "metadata": {
    "colab": {
      "provenance": [],
      "include_colab_link": true
    },
    "kernelspec": {
      "name": "python3",
      "display_name": "Python 3"
    },
    "language_info": {
      "name": "python"
    }
  },
  "cells": [
    {
      "cell_type": "markdown",
      "metadata": {
        "id": "view-in-github",
        "colab_type": "text"
      },
      "source": [
        "<a href=\"https://colab.research.google.com/github/mfaridn03/TextSummariser/blob/main/text_summarisier.ipynb\" target=\"_parent\"><img src=\"https://colab.research.google.com/assets/colab-badge.svg\" alt=\"Open In Colab\"/></a>"
      ]
    },
    {
      "cell_type": "markdown",
      "source": [
        "# Text Summarisation\n",
        "\n",
        "Recall an earlier notebook where you were given a task to summarise online content and produce a report. We converted an audio file to text. Similarly, we could write a notebook to convert a PDF or Word document to text or Web pages to text. The strategy is to convert everything to text, summarise the text, and use the summary in the final report.\n",
        "\n",
        "# The Challenge\n",
        "\n",
        "Create a project to summarise text and publish the project in Binder. \n",
        "\n",
        "You can choose how to input the text.  Some ideas include pasting it into a string, reading from a file, extract from a PDF or a webpage. \n",
        " \n",
        "It is okay to follow a online tutoirial or youtube video but make sure you have some understanding of what you are doing. You can ask you tutor for help if needed.  They will either help search, or perhaps explain the code in a tutorial.\n",
        "\n",
        "\n",
        "# Task 0 - Initialise a NEW repository\n",
        "\n",
        "We are going to deploy this notebook using Binder.\n",
        "\n",
        "* Initialise a new PUBLIC GitHub repository, say called, text_summariser.\n",
        "* Import this notebook into the new repository\n",
        "\n"
      ],
      "metadata": {
        "id": "SmVEXRTA1wZn"
      }
    },
    {
      "cell_type": "markdown",
      "source": [
        "# Install required libraries"
      ],
      "metadata": {
        "id": "OmrFJ7Ydoqah"
      }
    },
    {
      "cell_type": "code",
      "source": [
        "!pip install PyInputPlus\n",
        "!pip install spacy\n",
        "!pip install pyperclip"
      ],
      "metadata": {
        "id": "48RNuGBQIHQ0"
      },
      "execution_count": null,
      "outputs": []
    },
    {
      "cell_type": "markdown",
      "source": [
        "Import modules onto program"
      ],
      "metadata": {
        "id": "Ema7w_eQo6aq"
      }
    },
    {
      "cell_type": "code",
      "source": [
        "import os\n",
        "import pyinputplus as pyip\n",
        "import pyperclip\n",
        "import spacy\n",
        "\n",
        "# Initialising spacy\n",
        "nlp = spacy.load(\"en_core_web_sm\")"
      ],
      "metadata": {
        "id": "hT-v5oCopD2r"
      },
      "execution_count": null,
      "outputs": []
    },
    {
      "cell_type": "markdown",
      "source": [
        "Writing some helper functions"
      ],
      "metadata": {
        "id": "MsQAuqX_pMEu"
      }
    },
    {
      "cell_type": "code",
      "source": [
        "# Get content from a valid file\n",
        "def get_file_content(filename: str):\n",
        "  content = None\n",
        "  with open(filename, 'r') as op:\n",
        "    content = op.read().strip()\n",
        "  return content\n",
        "\n",
        "# Custom input prompt that validates filename input because\n",
        "# pyip's mustExist=True parameter in inputFilePath does not work\n",
        "def valid_file_prompt(prompt: str):\n",
        "  fn = input(prompt)\n",
        "  while not os.path.isfile(fn):\n",
        "    print(\"Not a valid file.\\n\")\n",
        "    fn = input(prompt)\n",
        "  \n",
        "  return fn\n",
        "\n",
        "# Get content from user's clipboard. Does not work in colab, only\n",
        "# local machine\n",
        "def get_clipboard_content():\n",
        "  return pyperclip.paste()"
      ],
      "metadata": {
        "id": "_XnRGpp3pEut"
      },
      "execution_count": null,
      "outputs": []
    },
    {
      "cell_type": "markdown",
      "source": [
        "Summarise function"
      ],
      "metadata": {
        "id": "arPV9U5Cpqvq"
      }
    },
    {
      "cell_type": "code",
      "source": [
        "# Code is from tutorial lesson\n",
        "# Returns the first two sentence of the article as a very basic 'summary'\n",
        "def summarise(string: str):\n",
        "  doc = nlp(string)\n",
        "  sentences = [sentence.text for sentence in doc.sents][:2]\n",
        "  return ' '.join(sentences)"
      ],
      "metadata": {
        "id": "7igN8AnepuYo"
      },
      "execution_count": null,
      "outputs": []
    },
    {
      "cell_type": "markdown",
      "source": [
        "Main function"
      ],
      "metadata": {
        "id": "JjvGO9_6qNvU"
      }
    },
    {
      "cell_type": "code",
      "source": [
        "def main():\n",
        "  choice = pyip.inputMenu(\n",
        "      [\"Paste from clipboard\", \"Load from file\", \"Exit\"],\n",
        "      prompt=\"Enter text input method:\\n\",\n",
        "      numbered=True\n",
        "    )\n",
        "  \n",
        "  if \"clipboard\" in choice:\n",
        "    # Only works when run in local machine\n",
        "    try:\n",
        "      paste = get_clipboard_content()\n",
        "    except PyperclipException as error:\n",
        "      print(error)\n",
        "    else:\n",
        "      print(summarise(paste))\n",
        "\n",
        "  elif \"from file\" in choice:\n",
        "    fn = valid_file_prompt(\"Enter filename: \")\n",
        "    fcontent = get_file_content(fn)\n",
        "    print(summarise(fcontent))\n",
        "\n",
        "  else:\n",
        "    print(\"Exiting.\")"
      ],
      "metadata": {
        "id": "K_gTp7SwfUV_"
      },
      "execution_count": null,
      "outputs": []
    },
    {
      "cell_type": "code",
      "source": [
        "if __name__ == \"__main__\":\n",
        "  main()\n",
        "  "
      ],
      "metadata": {
        "colab": {
          "base_uri": "https://localhost:8080/"
        },
        "id": "BSoIuzxcoZy2",
        "outputId": "888d1d1f-82a8-4193-b8d7-2b6b5cb42b42"
      },
      "execution_count": null,
      "outputs": [
        {
          "output_type": "stream",
          "name": "stdout",
          "text": [
            "Enter text input method:\n",
            "1. Paste from clipboard\n",
            "2. Load from file\n",
            "3. Exit\n",
            "2\n",
            "Enter filename: notexist.txt\n",
            "Not a valid file.\n",
            "\n",
            "Enter filename: article.txt\n",
            "Perth's beautiful beaches are facing a new danger: shark attacks. Local surfers and swimmers are reporting a sudden rise in shark activity in recent weeks.\n"
          ]
        }
      ]
    }
  ]
}