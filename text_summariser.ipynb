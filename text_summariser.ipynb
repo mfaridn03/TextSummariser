{
  "cells": [
    {
      "cell_type": "markdown",
      "metadata": {
        "colab_type": "text",
        "id": "view-in-github"
      },
      "source": [
        "<a href=\"https://colab.research.google.com/github/mfaridn03/TextSummariser/blob/main/text_summarisier.ipynb\" target=\"_parent\"><img src=\"https://colab.research.google.com/assets/colab-badge.svg\" alt=\"Open In Colab\"/></a>"
      ]
    },
    {
      "cell_type": "markdown",
      "metadata": {
        "id": "SmVEXRTA1wZn"
      },
      "source": [
        "# Text Summarisation\n",
        "\n",
        "Recall an earlier notebook where you were given a task to summarise online content and produce a report. We converted an audio file to text. Similarly, we could write a notebook to convert a PDF or Word document to text or Web pages to text. The strategy is to convert everything to text, summarise the text, and use the summary in the final report.\n",
        "\n",
        "# The Challenge\n",
        "\n",
        "Create a project to summarise text and publish the project in Binder. \n",
        "\n",
        "You can choose how to input the text.  Some ideas include pasting it into a string, reading from a file, extract from a PDF or a webpage. \n",
        " \n",
        "It is okay to follow a online tutoirial or youtube video but make sure you have some understanding of what you are doing. You can ask you tutor for help if needed.  They will either help search, or perhaps explain the code in a tutorial.\n",
        "\n",
        "\n",
        "# Task 0 - Initialise a NEW repository\n",
        "\n",
        "We are going to deploy this notebook using Binder.\n",
        "\n",
        "* Initialise a new PUBLIC GitHub repository, say called, text_summariser.\n",
        "* Import this notebook into the new repository\n",
        "\n"
      ]
    },
    {
      "cell_type": "markdown",
      "metadata": {
        "id": "OmrFJ7Ydoqah"
      },
      "source": [
        "# Install required libraries"
      ]
    },
    {
      "cell_type": "code",
      "execution_count": null,
      "metadata": {
        "id": "48RNuGBQIHQ0"
      },
      "outputs": [],
      "source": [
        "!pip install PyInputPlus\n",
        "!pip install spacy\n",
        "!pip install pyperclip"
      ]
    },
    {
      "cell_type": "markdown",
      "metadata": {
        "id": "Ema7w_eQo6aq"
      },
      "source": [
        "Import modules onto program"
      ]
    },
    {
      "cell_type": "code",
      "execution_count": null,
      "metadata": {
        "id": "hT-v5oCopD2r"
      },
      "outputs": [],
      "source": [
        "import os\n",
        "import pyinputplus as pyip\n",
        "import pyperclip\n",
        "import spacy\n",
        "\n",
        "\n",
        "# Initialising spacy\n",
        "# https://github.com/explosion/spaCy/issues/4577\n",
        "try:\n",
        "    nlp = spacy.load(\"en_core_web_sm\")\n",
        "except OSError:\n",
        "    import en_core_web_sm\n",
        "    nlp = en_core_web_sm.load()"
      ]
    },
    {
      "cell_type": "markdown",
      "metadata": {
        "id": "MsQAuqX_pMEu"
      },
      "source": [
        "Writing some helper functions"
      ]
    },
    {
      "cell_type": "code",
      "execution_count": null,
      "metadata": {
        "id": "_XnRGpp3pEut"
      },
      "outputs": [],
      "source": [
        "# Get content from a valid file\n",
        "def get_file_content(filename: str):\n",
        "  content = None\n",
        "  with open(filename, 'r') as op:\n",
        "    content = op.read().strip()\n",
        "  return content\n",
        "\n",
        "# Custom input prompt that validates filename input because\n",
        "# pyip's mustExist=True parameter in inputFilePath does not work\n",
        "def valid_file_prompt(prompt: str):\n",
        "  fn = input(prompt)\n",
        "  while not os.path.isfile(fn):\n",
        "    print(\"Not a valid file.\\n\")\n",
        "    fn = input(prompt)\n",
        "  \n",
        "  return fn\n",
        "\n",
        "# Get content from user's clipboard. Does not work in colab, only\n",
        "# local machine\n",
        "def get_clipboard_content():\n",
        "  return pyperclip.paste()"
      ]
    },
    {
      "cell_type": "markdown",
      "metadata": {
        "id": "arPV9U5Cpqvq"
      },
      "source": [
        "Summarise function"
      ]
    },
    {
      "cell_type": "code",
      "execution_count": null,
      "metadata": {
        "id": "7igN8AnepuYo"
      },
      "outputs": [],
      "source": [
        "# Code is from tutorial lesson\n",
        "# Returns the first two sentence of the article as a very basic 'summary'\n",
        "def summarise(string: str):\n",
        "  doc = nlp(string)\n",
        "  sentences = [sentence.text for sentence in doc.sents][:2]\n",
        "  return ' '.join(sentences)"
      ]
    },
    {
      "cell_type": "markdown",
      "metadata": {
        "id": "JjvGO9_6qNvU"
      },
      "source": [
        "Main function"
      ]
    },
    {
      "cell_type": "code",
      "execution_count": 65,
      "metadata": {
        "id": "K_gTp7SwfUV_"
      },
      "outputs": [],
      "source": [
        "def main():\n",
        "  choice = pyip.inputMenu(\n",
        "      [\"Paste from clipboard\", \"Load from file\", \"Exit\"],\n",
        "      prompt=\"Enter text input method:\\n\",\n",
        "      numbered=True\n",
        "    )\n",
        "  \n",
        "  if \"clipboard\" in choice:\n",
        "    # Only works when run in local machine\n",
        "    try:\n",
        "      paste = get_clipboard_content()\n",
        "    except pyperclip.PyperclipException as error:\n",
        "      if 'could not find a copy/paste mechanism for your system' in str(error):\n",
        "        print(\"Copy paste does not work on Google Colab. Must run in local machine to use this option\")\n",
        "      else:\n",
        "        print(error)\n",
        "    else:\n",
        "      print(summarise(paste))\n",
        "\n",
        "  elif \"from file\" in choice:\n",
        "    fn = valid_file_prompt(\"Enter filename: \")\n",
        "    fcontent = get_file_content(fn)\n",
        "    print(summarise(fcontent))\n",
        "\n",
        "  else:\n",
        "    print(\"Exiting.\")"
      ]
    },
    {
      "cell_type": "code",
      "execution_count": 67,
      "metadata": {
        "colab": {
          "base_uri": "https://localhost:8080/"
        },
        "id": "BSoIuzxcoZy2",
        "outputId": "77dce979-dbe8-403b-dce8-b5e3509dcfc9"
      },
      "outputs": [
        {
          "name": "stdout",
          "output_type": "stream",
          "text": [
            "Enter text input method:\n",
            "1. Paste from clipboard\n",
            "2. Load from file\n",
            "3. Exit\n",
            "2\n",
            "Enter filename: abc.txt\n",
            "Not a valid file.\n",
            "\n",
            "Enter filename: article.txt\n",
            "Perth's beautiful beaches are facing a new danger: shark attacks. Local surfers and swimmers are reporting a sudden rise in shark activity in recent weeks.\n"
          ]
        }
      ],
      "source": [
        "if __name__ == \"__main__\":\n",
        "  main()\n",
        "  "
      ]
    }
  ],
  "metadata": {
    "colab": {
      "include_colab_link": true,
      "provenance": []
    },
    "kernelspec": {
      "display_name": "Python 3",
      "name": "python3"
    },
    "language_info": {
      "name": "python"
    }
  },
  "nbformat": 4,
  "nbformat_minor": 0
}
